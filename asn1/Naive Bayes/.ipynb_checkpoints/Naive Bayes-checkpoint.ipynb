{
 "cells": [
  {
   "cell_type": "code",
   "execution_count": 40,
   "metadata": {
    "collapsed": true
   },
   "outputs": [],
   "source": [
    "import sklearn\n",
    "import numpy as np\n",
    "import pandas as pd\n",
    "import matplotlib\n",
    "from sklearn.feature_extraction.text import TfidfVectorizer\n",
    "from sklearn.feature_selection import SelectKBest,mutual_info_classif\n",
    "import os\n",
    "\n"
   ]
  },
  {
   "cell_type": "code",
   "execution_count": 41,
   "metadata": {
    "collapsed": true
   },
   "outputs": [],
   "source": [
    "\n",
    "spam_train_dir=\"/home/abhi/Desktop/Sem 5/AML/asn1/Naive Bayes/EmailsData/spam-train\"\n",
    "notspam_train_dir=\"/home/abhi/Desktop/Sem 5/AML/asn1/Naive Bayes/EmailsData/nonspam-train\"\n"
   ]
  },
  {
   "cell_type": "code",
   "execution_count": 55,
   "metadata": {},
   "outputs": [],
   "source": [
    "\n",
    "class Naive_bayes:\n",
    "    def __init__(self,spam_dir,non_spam_dir):\n",
    "        self.spam_dir=spam_dir\n",
    "        self.non_spam_dir=non_spam_dir\n",
    "        self.X_train=[]\n",
    "        self.vectorizer = TfidfVectorizer()\n",
    "        \n",
    "    def _make_corpus(self):\n",
    "        files=[]\n",
    "        for file in os.listdir(self.spam_dir):\n",
    "            files += [self.spam_dir+'/'+file]\n",
    "        for file in os.listdir(self.non_spam_dir):\n",
    "            files+= [self.non_spam_dir+'/'+file]\n",
    "        for emails in files:\n",
    "            doc_string=\"\"\n",
    "            with open(emails) as email:\n",
    "                for line in email:\n",
    "                    doc_string = doc_string + line\n",
    "                if not self.X_train:\n",
    "                    self.X_train=[doc_string]\n",
    "                else:\n",
    "                    self.X_train.append(doc_string)\n",
    "                    \n",
    "    def train(self):\n",
    "        self._make_corpus()\n",
    "        self.Y_train = np.zeros(700)\n",
    "        self.Y_train[0:350] = 1\n",
    "        self.Y_train[350:700] = 0\n",
    "        train_corpus_tf_idf = self.vectorizer.fit_transform(self.X_train)\n",
    "        self.select = SelectKBest(mutual_info_classif,50)\n",
    "        self.select_obj = self.select.fit_transform(train_corpus_tf_idf.toarray(),self.Y_train)\n",
    "    \n",
    "    def gaussian(self):\n",
    "        spam_mean = np.mean(self.select_obj[:][0:350],axis=0)\n",
    "        spam_std = np.std(self.select_obj[:][0:350],axis=0)+(10**(-6))\n",
    "        notspam_mean = np.mean(self.select_obj[:][350:700],axis=0) \n",
    "        notspam_std = np.std(self.select_obj[:][350:700],axis=0)+(10**(-6))\n",
    "        return spam_mean,spam_std,notspam_mean,notspam_std\n",
    "            \n",
    "        \n",
    "        \n",
    "    def predict(self,test_dir):\n",
    "        files=[]\n",
    "        X_test=[]\n",
    "        for file in os.listdir(test_dir):\n",
    "            files += [test_dir+'/'+file]\n",
    "\n",
    "        for emails in files:\n",
    "            doc_string=\"\"\n",
    "            with open(emails) as email:\n",
    "                for line in email:\n",
    "                    doc_string = doc_string + line\n",
    "                    if not X_test:\n",
    "                        X_test=[doc_string]\n",
    "                    else:\n",
    "                        X_test.append(doc_string)  \n",
    "                \n",
    "        test_corpus_tf_idf = self.vectorizer.transform(X_test)\n",
    "        select_test_obj = self.select.transform(test_corpus_tf_idf.toarray())\n",
    "        \n",
    "        spam=0\n",
    "        notspam=0\n",
    "        spam_mean,spam_std,notspam_mean,notspam_std = self.gaussian()\n",
    "        for row in select_test_obj:\n",
    "            spam_prob=1\n",
    "            notspam_prob=1\n",
    "            for i in range(len(row)):\n",
    "                spam_prob = spam_prob * np.e**((-(row[i]-spam_mean)**2)/(2*spam_std*spam_std))/(spam_mean)\n",
    "            for i in range(len(row)):\n",
    "                notspam_prob = notspam_prob * np.e**((-(row[i]-notspam_mean)**2)/(2*notspam_std*notspam_std))/(notspam_mean)\n",
    "            print spam_prob\n",
    "            \n",
    "            print spam_prob.shape\n",
    "            if spam_prob>notspam_prob:\n",
    "                spam = spam+1\n",
    "            else:\n",
    "                notspam = notspam+1\n",
    "        \n",
    "        print spam\n",
    "        print notspam\n",
    "        \n",
    "\n",
    "                        \n",
    "                        \n",
    "                        \n",
    "\n"
   ]
  },
  {
   "cell_type": "code",
   "execution_count": 46,
   "metadata": {},
   "outputs": [],
   "source": [
    "test = Naive_bayes(spam_train_dir,notspam_train_dir)\n",
    "test.train()\n"
   ]
  },
  {
   "cell_type": "code",
   "execution_count": 56,
   "metadata": {},
   "outputs": [
    {
     "name": "stderr",
     "output_type": "stream",
     "text": [
      "/usr/local/lib/python2.7/dist-packages/ipykernel_launcher.py:69: RuntimeWarning: invalid value encountered in divide\n",
      "/usr/local/lib/python2.7/dist-packages/ipykernel_launcher.py:69: RuntimeWarning: divide by zero encountered in divide\n",
      "/usr/local/lib/python2.7/dist-packages/ipykernel_launcher.py:71: RuntimeWarning: invalid value encountered in divide\n",
      "/usr/local/lib/python2.7/dist-packages/ipykernel_launcher.py:71: RuntimeWarning: divide by zero encountered in divide\n",
      "/usr/local/lib/python2.7/dist-packages/ipykernel_launcher.py:73: RuntimeWarning: invalid value encountered in greater\n"
     ]
    },
    {
     "ename": "ValueError",
     "evalue": "The truth value of an array with more than one element is ambiguous. Use a.any() or a.all()",
     "output_type": "error",
     "traceback": [
      "\u001b[0;31m---------------------------------------------------------------------------\u001b[0m",
      "\u001b[0;31mValueError\u001b[0m                                Traceback (most recent call last)",
      "\u001b[0;32m<ipython-input-56-949a764198c5>\u001b[0m in \u001b[0;36m<module>\u001b[0;34m()\u001b[0m\n\u001b[0;32m----> 1\u001b[0;31m \u001b[0mtest\u001b[0m\u001b[0;34m.\u001b[0m\u001b[0mpredict\u001b[0m\u001b[0;34m(\u001b[0m\u001b[0mnotspam_test_dir\u001b[0m\u001b[0;34m)\u001b[0m\u001b[0;34m\u001b[0m\u001b[0m\n\u001b[0m",
      "\u001b[0;32m<ipython-input-44-597ea24ae08f>\u001b[0m in \u001b[0;36mpredict\u001b[0;34m(self, test_dir)\u001b[0m\n\u001b[1;32m     71\u001b[0m                 \u001b[0mnotspam_prob\u001b[0m \u001b[0;34m=\u001b[0m \u001b[0mnotspam_prob\u001b[0m \u001b[0;34m*\u001b[0m \u001b[0mnp\u001b[0m\u001b[0;34m.\u001b[0m\u001b[0me\u001b[0m\u001b[0;34m**\u001b[0m\u001b[0;34m(\u001b[0m\u001b[0;34m(\u001b[0m\u001b[0;34m-\u001b[0m\u001b[0;34m(\u001b[0m\u001b[0mrow\u001b[0m\u001b[0;34m[\u001b[0m\u001b[0mi\u001b[0m\u001b[0;34m]\u001b[0m\u001b[0;34m-\u001b[0m\u001b[0mnotspam_mean\u001b[0m\u001b[0;34m)\u001b[0m\u001b[0;34m**\u001b[0m\u001b[0;36m2\u001b[0m\u001b[0;34m)\u001b[0m\u001b[0;34m/\u001b[0m\u001b[0;34m(\u001b[0m\u001b[0;36m2\u001b[0m\u001b[0;34m*\u001b[0m\u001b[0mnotspam_std\u001b[0m\u001b[0;34m*\u001b[0m\u001b[0mnotspam_std\u001b[0m\u001b[0;34m)\u001b[0m\u001b[0;34m)\u001b[0m\u001b[0;34m/\u001b[0m\u001b[0;34m(\u001b[0m\u001b[0mnotspam_mean\u001b[0m\u001b[0;34m)\u001b[0m\u001b[0;34m\u001b[0m\u001b[0m\n\u001b[1;32m     72\u001b[0m \u001b[0;34m\u001b[0m\u001b[0m\n\u001b[0;32m---> 73\u001b[0;31m             \u001b[0;32mif\u001b[0m \u001b[0mspam_prob\u001b[0m\u001b[0;34m>\u001b[0m\u001b[0mnotspam_prob\u001b[0m\u001b[0;34m:\u001b[0m\u001b[0;34m\u001b[0m\u001b[0m\n\u001b[0m\u001b[1;32m     74\u001b[0m                 \u001b[0mspam\u001b[0m \u001b[0;34m=\u001b[0m \u001b[0mspam\u001b[0m\u001b[0;34m+\u001b[0m\u001b[0;36m1\u001b[0m\u001b[0;34m\u001b[0m\u001b[0m\n\u001b[1;32m     75\u001b[0m             \u001b[0;32melse\u001b[0m\u001b[0;34m:\u001b[0m\u001b[0;34m\u001b[0m\u001b[0m\n",
      "\u001b[0;31mValueError\u001b[0m: The truth value of an array with more than one element is ambiguous. Use a.any() or a.all()"
     ]
    }
   ],
   "source": [
    "test.predict(notspam_test_dir)"
   ]
  },
  {
   "cell_type": "code",
   "execution_count": 53,
   "metadata": {},
   "outputs": [
    {
     "data": {
      "text/plain": [
       "2.718281828459045"
      ]
     },
     "execution_count": 53,
     "metadata": {},
     "output_type": "execute_result"
    }
   ],
   "source": [
    "math.e"
   ]
  },
  {
   "cell_type": "code",
   "execution_count": null,
   "metadata": {
    "collapsed": true
   },
   "outputs": [],
   "source": []
  }
 ],
 "metadata": {
  "kernelspec": {
   "display_name": "Python 2",
   "language": "python",
   "name": "python2"
  },
  "language_info": {
   "codemirror_mode": {
    "name": "ipython",
    "version": 2
   },
   "file_extension": ".py",
   "mimetype": "text/x-python",
   "name": "python",
   "nbconvert_exporter": "python",
   "pygments_lexer": "ipython2",
   "version": "2.7.12"
  }
 },
 "nbformat": 4,
 "nbformat_minor": 2
}
