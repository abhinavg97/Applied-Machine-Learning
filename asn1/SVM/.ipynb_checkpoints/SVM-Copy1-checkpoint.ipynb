{
 "cells": [
  {
   "cell_type": "code",
   "execution_count": 1,
   "metadata": {
    "collapsed": true
   },
   "outputs": [],
   "source": [
    "from sklearn.model_selection import StratifiedKFold\n",
    "import numpy as np\n",
    "from sklearn import svm\n",
    "from sklearn.svm import SVC\n",
    "from sklearn.metrics import accuracy_score"
   ]
  },
  {
   "cell_type": "code",
   "execution_count": 2,
   "metadata": {},
   "outputs": [],
   "source": [
    "train_data=[]\n",
    "train_label=[]\n",
    "tf='/home/abhi/Desktop/Sem 5/AML/asn1/SVM/data/train.csv'\n",
    "def preprocess(tf):\n",
    "    with open(tf,\"r\") as f:\n",
    "        dict = [{} for i in range(14)]\n",
    "        val=0\n",
    "        for line in f:\n",
    "            data=line.split(\", \")\n",
    "            data[0]=int(data[0])\n",
    "            data[2]=int(data[2])\n",
    "            data[4]=int(data[4])\n",
    "            data[10]=int(data[10])\n",
    "            data[11]=int(data[11])\n",
    "            data[12]=int(data[12])\n",
    "            data[14]=int(data[14])\n",
    "            for i in range(14):\n",
    "                if i !=0 and i !=2 and i !=4 and i !=10 and i !=11 and i !=12 :\n",
    "                    if data[i] in dict[i]:\n",
    "                        data[i] = dict[i][data[i]]      \n",
    "                    else:\n",
    "                        dict[i][data[i]] = val     # unique string elements get mapped to integer numbers here\n",
    "                        data[i] = val\n",
    "                        val=val+1               # increase the value of val for other mapping other nu\n",
    "            train_data.append(data[:14])\n",
    "            train_label.append(data[14])\n",
    "preprocess(tf)\n",
    "\n",
    "\n",
    "\n",
    "\n"
   ]
  },
  {
   "cell_type": "code",
   "execution_count": null,
   "metadata": {},
   "outputs": [
    {
     "name": "stdout",
     "output_type": "stream",
     "text": [
      "[[1 2]\n",
      " [1 2]]\n"
     ]
    }
   ],
   "source": [
    "a=np.array([[1,1],[2,2]])\n",
    "print a.T"
   ]
  },
  {
   "cell_type": "code",
   "execution_count": null,
   "metadata": {
    "scrolled": false
   },
   "outputs": [],
   "source": [
    "def gaussianKernelGramMatrix(x1, x2, sigma=0.1):\n",
    "    \"\"\"(Pre)calculates Gram Matrix K\"\"\"\n",
    "    gram_matrix = np.zeros((x1.shape[0], x2.shape[0]))\n",
    "    x2=x2.T\n",
    "    # iterate through rows of X\n",
    "    for i in range(len(x1)):\n",
    "       # iterate through columns of Y\n",
    "       for j in range(len(x2[0])):\n",
    "           # iterate through rows of Y\n",
    "           for k in range(len(x2)):\n",
    "                gram_matrix[i][j] += np.e**(-(x1[i][k]-x2[k][j])**2/(sigma**2))\n",
    "    \n",
    "    return gram_matrix\n",
    "\n",
    "def polynomialKernelGramMatrix(X1, X2, q=2):\n",
    "    \"\"\"(Pre)calculates Gram Matrix K\"\"\"\n",
    "\n",
    "    gram_matrix = np.zeros((x1.shape[0], x2.shape[0]))\n",
    "    x2=x2.T\n",
    "    # iterate through rows of X\n",
    "    for i in range(len(x1)):\n",
    "       # iterate through columns of Y\n",
    "       for j in range(len(x2[0])):\n",
    "           # iterate through rows of Y\n",
    "           for k in range(len(x2)):\n",
    "                gram_matrix[i][j] += (x1[i][k]+x2[j][k]+1)**q\n",
    "    return gram_matrix\n",
    "\n",
    "def linearKernelGramMatrix(X1, X2, sigma=0.1):\n",
    "    \"\"\"(Pre)calculates Gram Matrix K\"\"\"\n",
    "\n",
    "    gram_matrix = np.zeros((x1.shape[0], x2.shape[0]))\n",
    "    x2=x2.T\n",
    "    # iterate through rows of X\n",
    "    for i in range(len(x1)):\n",
    "       # iterate through columns of Y\n",
    "       for j in range(len(x2[0])):\n",
    "           # iterate through rows of Y\n",
    "           for k in range(len(x2)):\n",
    "                gram_matrix[i][j] += x1[i][k]+x2[j][k]\n",
    "    return gram_matrix\n",
    "\n",
    "skf = StratifiedKFold(n_splits=5)\n",
    "skf.get_n_splits(train_data,train_label)\n",
    "\n",
    "\n",
    "for train,test in skf.split(train_data, train_label):\n",
    "    X_train=[]\n",
    "    X_test=[]\n",
    "    Y_train=[]\n",
    "    Y_test=[]\n",
    "    for i in train:\n",
    "        X_train.append(train_data[i])\n",
    "        Y_train.append(train_label[i])\n",
    "    for i in test:\n",
    "        X_test.append(train_data[i])\n",
    "        Y_test.append(train_label[i])\n",
    "    X_train=np.array([np.array(xi) for xi in X_train])\n",
    "    X_test=np.array([np.array(xi) for xi in X_test])\n",
    "    \n",
    "    svc_gauss = SVC(kernel='precomputed')\n",
    "    svc_gauss.fit(gaussianKernelGramMatrix(X_train,X_train), Y_train)\n",
    "    y_pred = svc_gauss.predict(gaussianKernelGramMatrix(X_test,X_train))\n",
    "    print 'accuracy score gaussian kernel: %0.3f' % accuracy_score(Y_test, y_pred)\n",
    "    \n",
    "    svc_pol = SVC(kernel='precomputed')\n",
    "    svc_pol.fit(polynomialKernelGramMatrix(X_train,X_train), Y_train)\n",
    "    y_pred = svc_pol.predict(polynomialKernelGramMatrix(X_test,X_train))\n",
    "    print 'accuracy score polynomial kernel: %0.3f' % accuracy_score(Y_test, y_pred)\n",
    "    \n",
    "    svc_lin = SVC(kernel='precomputed')\n",
    "    svc_lin.fit(linearKernelGramMatrix(X_train,X_train), Y_train)\n",
    "    y_pred = svc_lin.predict(linearKernelGramMatrix(X_test,X_train))\n",
    "    print 'accuracy score linear kernel: %0.3f' % accuracy_score(Y_test, y_pred)\n",
    "\n"
   ]
  },
  {
   "cell_type": "code",
   "execution_count": null,
   "metadata": {
    "collapsed": true
   },
   "outputs": [],
   "source": [
    "class MultiKernelfixedrules(object):\n",
    "    def __init__(self, kernels, X=None):\n",
    "        pass"
   ]
  },
  {
   "cell_type": "code",
   "execution_count": null,
   "metadata": {
    "collapsed": true
   },
   "outputs": [],
   "source": []
  }
 ],
 "metadata": {
  "kernelspec": {
   "display_name": "Python 2",
   "language": "python",
   "name": "python2"
  },
  "language_info": {
   "codemirror_mode": {
    "name": "ipython",
    "version": 2
   },
   "file_extension": ".py",
   "mimetype": "text/x-python",
   "name": "python",
   "nbconvert_exporter": "python",
   "pygments_lexer": "ipython2",
   "version": "2.7.12"
  }
 },
 "nbformat": 4,
 "nbformat_minor": 2
}
