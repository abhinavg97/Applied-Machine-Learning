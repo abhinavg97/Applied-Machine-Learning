{
 "cells": [
  {
   "cell_type": "code",
   "execution_count": 1,
   "metadata": {
    "scrolled": true
   },
   "outputs": [],
   "source": [
    "import numpy as np\n",
    "import pandas as pd\n",
    "import matplotlib.pyplot as plt\n",
    "import seaborn as sns\n",
    "from sklearn.utils import resample\n",
    "from sklearn.preprocessing import *\n",
    "\n",
    "%matplotlib inline \n",
    "\n",
    "train = pd.read_csv('/home/abhi/Desktop/Sem8/MLiW/trainDataLabels.csv')"
   ]
  },
  {
   "cell_type": "code",
   "execution_count": 2,
   "metadata": {},
   "outputs": [],
   "source": [
    "Input = train['Input']\n",
    "labels = train['Label']\n",
    "train1 = train.drop(['Id', 'Input', 'Label'], axis = 1)"
   ]
  },
  {
   "cell_type": "code",
   "execution_count": 3,
   "metadata": {},
   "outputs": [
    {
     "name": "stderr",
     "output_type": "stream",
     "text": [
      "/usr/lib/python3/dist-packages/ipykernel_launcher.py:1: FutureWarning: Method .as_matrix will be removed in a future version. Use .values instead.\n",
      "  \"\"\"Entry point for launching an IPython kernel.\n"
     ]
    }
   ],
   "source": [
    "Input_array = Input.as_matrix().astype('U')\n",
    "Input_array = np.char.replace(Input_array,'i','j').astype(np.complex)\n",
    "Real_Input = Input_array.real\n",
    "Imag_Input = Input_array.imag\n",
    "train1['Real'] = Real_Input\n",
    "train1['Imag'] = Imag_Input"
   ]
  },
  {
   "cell_type": "code",
   "execution_count": 4,
   "metadata": {},
   "outputs": [],
   "source": [
    "poly = PolynomialFeatures(degree =4)\n",
    "temp = poly.fit_transform(train1)\n",
    "train2 = pd.DataFrame(temp, columns = ['constant', 'r', 'i', '1', '2','3', '4','5',\n",
    "                                      '6','7', '8','9', '10','11', '12'])"
   ]
  },
  {
   "cell_type": "markdown",
   "metadata": {},
   "source": [
    "# Using stratified k fold"
   ]
  },
  {
   "cell_type": "code",
   "execution_count": 5,
   "metadata": {},
   "outputs": [],
   "source": [
    "from sklearn.metrics import accuracy_score\n",
    "from sklearn.model_selection import StratifiedKFold\n",
    "kf=StratifiedKFold(n_splits=10, shuffle=True, random_state=False)"
   ]
  },
  {
   "cell_type": "code",
   "execution_count": 17,
   "metadata": {},
   "outputs": [
    {
     "name": "stderr",
     "output_type": "stream",
     "text": [
      "/home/abhi/.local/lib/python3.6/site-packages/sklearn/ensemble/forest.py:248: FutureWarning: The default value of n_estimators will change from 10 in version 0.20 to 100 in 0.22.\n",
      "  \"10 in version 0.20 to 100 in 0.22.\", FutureWarning)\n"
     ]
    },
    {
     "name": "stdout",
     "output_type": "stream",
     "text": [
      "0.358020802080208\n",
      "0.29292929292929293\n"
     ]
    },
    {
     "data": {
      "image/png": "[encoded data removed]",
      "text/plain": [
       "<Figure size 432x288 with 1 Axes>"
      ]
     },
     "metadata": {},
     "output_type": "display_data"
    }
   ],
   "source": [
    "from sklearn.linear_model import LogisticRegression\n",
    "from sklearn.tree import DecisionTreeClassifier\n",
    "from sklearn.ensemble import RandomForestClassifier\n",
    "from sklearn.neighbors import KNeighborsClassifier\n",
    "\n",
    "# model = LogisticRegression(multi_class = 'multinomial', solver = 'saga', penalty = 'l2')\n",
    "# model = DecisionTreeClassifier(max_depth=7)\n",
    "# model = RandomForestClassifier()\n",
    "model = RandomForestClassifier(max_depth=4, max_features=7)  # for train2\n",
    "# model = KNeighborsClassifier(n_neighbors = 10)\n",
    "\n",
    "to_train = train2\n",
    "\n",
    "outcomes=[]\n",
    "\n",
    "for train_id, test_id in kf.split(to_train,labels):\n",
    "    X_train, X_test = to_train.values[train_id], to_train.values[test_id]\n",
    "    y_train, y_test = labels.values[train_id], labels.values[test_id]\n",
    "    \n",
    "#     scaler = StandardScaler()  \n",
    "#     scaler.fit(X_train)  \n",
    "#     X_train = scaler.transform(X_train)  \n",
    "#     X_test = scaler.transform(X_test) \n",
    "\n",
    "    model.fit(X_train,y_train)\n",
    "    predictions = model.predict(X_test)\n",
    "    accuracy = accuracy_score(y_test, predictions)\n",
    "    outcomes.append(accuracy)\n",
    "    \n",
    "plt.plot(range(10),outcomes)\n",
    "\n",
    "print(np.mean(outcomes))\n",
    "print(min(outcomes))\n"
   ]
  },
  {
   "cell_type": "markdown",
   "metadata": {},
   "source": [
    "# Test Data ahead"
   ]
  },
  {
   "cell_type": "code",
   "execution_count": null,
   "metadata": {
    "scrolled": true
   },
   "outputs": [],
   "source": [
    "test1 = pd.read_csv('/home/abhi/Desktop/Sem8/MLiW/testData.csv')\n",
    "test_data = test1.drop(['Id'], axis =1)\n",
    "test_array = test_data.as_matrix().astype('U')\n",
    "test_array = np.char.replace(test_array,'i','j').astype(np.complex)\n",
    "Real_Input_test = test_array.real\n",
    "Imag_Input_test = test_array.imag\n",
    "test = test1.drop(['Id', 'Input'], axis=1)\n",
    "test['Real'] = Real_Input_test\n",
    "test['Imag'] = Imag_Input_test"
   ]
  },
  {
   "cell_type": "code",
   "execution_count": null,
   "metadata": {
    "scrolled": true
   },
   "outputs": [],
   "source": [
    "    #Don't cheat - fit only on training data\n",
    "# scaler = StandardScaler()  \n",
    "# scaler.fit(train1)  \n",
    "# train1 = scaler.transform(train1)  \n",
    "# apply same transformation to test data\n",
    "# test = scaler.transform(test) \n",
    "\n",
    "model.fit(train1,labels)\n",
    "predictions = model.predict(test)\n",
    "\n",
    "Class=pd.DataFrame(data=predictions,columns=['Predicted Label'])\n",
    "pred_final=pd.concat([test1['Id'],Class],axis =1)\n",
    "pred_final.to_csv('Kaggle_pred_EE5611.csv',index=False)"
   ]
  },
  {
   "cell_type": "code",
   "execution_count": null,
   "metadata": {},
   "outputs": [],
   "source": [
    "pred_final.dropna(axis=0, how='all')"
   ]
  }
 ],
 "metadata": {
  "kernelspec": {
   "display_name": "Python 3",
   "language": "python",
   "name": "python3"
  },
  "language_info": {
   "codemirror_mode": {
    "name": "ipython",
    "version": 3
   },
   "file_extension": ".py",
   "mimetype": "text/x-python",
   "name": "python",
   "nbconvert_exporter": "python",
   "pygments_lexer": "ipython3",
   "version": "3.6.7"
  }
 },
 "nbformat": 4,
 "nbformat_minor": 2
}
