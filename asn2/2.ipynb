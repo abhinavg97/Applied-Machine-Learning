{
 "cells": [
  {
   "cell_type": "markdown",
   "metadata": {},
   "source": [
    "# Importing Libraries"
   ]
  },
  {
   "cell_type": "code",
   "execution_count": 1,
   "metadata": {
    "collapsed": true
   },
   "outputs": [],
   "source": [
    "import numpy as np"
   ]
  },
  {
   "cell_type": "markdown",
   "metadata": {},
   "source": [
    "## Intitializing the values"
   ]
  },
  {
   "cell_type": "code",
   "execution_count": 2,
   "metadata": {},
   "outputs": [],
   "source": [
    "m=150\n",
    "d=75\n",
    "X = np.random.rand(m,d)\n",
    "true_theta = np.zeros(d)\n",
    "\n",
    "for i in range(10):\n",
    "    if(np.random.randint(2)) ==0:\n",
    "        true_theta[i]=10\n",
    "    else :\n",
    "        true_theta[i]=-10\n",
    "        \n",
    "eps = 0.31622776601 * np.random.randn(m, 1) \n",
    "eps = eps.flatten()\n"
   ]
  },
  {
   "cell_type": "markdown",
   "metadata": {},
   "source": [
    "## Evaluating train ,test ,val for the given dataset"
   ]
  },
  {
   "cell_type": "code",
   "execution_count": 3,
   "metadata": {},
   "outputs": [],
   "source": [
    "y = np.matmul(X,true_theta) + eps\n",
    "xtrain = X[:80]\n",
    "ytrain = y[:80]\n",
    "xval = X[80:100]\n",
    "yval = y[80:100]\n",
    "xtest = X[100:150]\n",
    "ytest = y[100:150]\n"
   ]
  },
  {
   "cell_type": "markdown",
   "metadata": {},
   "source": [
    "## Functions to minimize the objectives \n",
    "### These will be called from the inbuilt scipy.minimize function"
   ]
  },
  {
   "cell_type": "code",
   "execution_count": 4,
   "metadata": {
    "collapsed": true
   },
   "outputs": [],
   "source": [
    "def fun(param,x,y):\n",
    "    theta = param[1:]\n",
    "    lam = param[0]\n",
    "    return sum(np.square(y - np.matmul(x,theta))) + lam*sum(np.square(theta))\n",
    "\n",
    "def fun2(lam,theta,x,y):\n",
    "    \n",
    "    return sum(np.square(y - np.matmul(x,theta))) + lam*sum(np.square(theta))\n",
    "\n",
    "def fun3(theta,lam,x,y):\n",
    "\n",
    "    return sum(np.square(y - np.matmul(x,theta))) + lam*sum(np.square(theta))\n",
    "\n",
    "def constrain(x):\n",
    "    return x[0]"
   ]
  },
  {
   "cell_type": "markdown",
   "metadata": {},
   "source": [
    "## Minimizing the loss function with l2 regularization "
   ]
  },
  {
   "cell_type": "markdown",
   "metadata": {},
   "source": [
    "### We choose optimal theta values from the train set  along with a dummy lamda value"
   ]
  },
  {
   "cell_type": "code",
   "execution_count": 5,
   "metadata": {},
   "outputs": [],
   "source": [
    "from scipy.optimize import minimize\n",
    "lam = 1\n",
    "theta = np.ones(d)\n",
    "\n",
    "param = np.insert(theta,0,lam)\n",
    "res = minimize(fun,param,args=(xtrain,ytrain),constraints = {'type':'ineq','fun':constrain})\n"
   ]
  },
  {
   "cell_type": "markdown",
   "metadata": {},
   "source": [
    "## We choose the best lambda from the validation set "
   ]
  },
  {
   "cell_type": "markdown",
   "metadata": {},
   "source": [
    "### We minimize the error on the validation set , and choose the corresponding lamda"
   ]
  },
  {
   "cell_type": "code",
   "execution_count": 6,
   "metadata": {},
   "outputs": [],
   "source": [
    "\n",
    "lam = res.x[0]\n",
    "theta = res.x[1:]\n",
    "res = minimize(fun2,lam,args=(theta,xval,yval),constraints = {'type':'ineq','fun':constrain})\n",
    "\n",
    "lamda_estimate = res.x\n"
   ]
  },
  {
   "cell_type": "markdown",
   "metadata": {},
   "source": [
    "## We evaluate the theta values on the test set with the chosen lamda value \n",
    "### We get the corresponding theta values"
   ]
  },
  {
   "cell_type": "code",
   "execution_count": 7,
   "metadata": {},
   "outputs": [],
   "source": [
    "res = minimize(fun3,theta,args=(lamda_estimate,xtest,ytest),constraints = {'type':'ineq','fun':constrain})\n",
    "predicted_theta = res.x"
   ]
  },
  {
   "cell_type": "markdown",
   "metadata": {},
   "source": [
    "## Checking the number of mismatched values without the threshold"
   ]
  },
  {
   "cell_type": "markdown",
   "metadata": {},
   "source": [
    "### Setting the threshold and assigning all values below it to 0"
   ]
  },
  {
   "cell_type": "code",
   "execution_count": 8,
   "metadata": {
    "collapsed": true
   },
   "outputs": [],
   "source": [
    "# This function checks the discrepancy by the rule given in the assignment pdf\n",
    "def discrepancy(a1,a2):\n",
    "    count =0\n",
    "    for i in range(a1.shape[0]):\n",
    "        if((a1[i]==0 and a2[i]!=0) or (a1[i]!=0 and a2[i]==0)):\n",
    "            count = count + 1\n",
    "    return count\n",
    "\n",
    "# This function assigns all the values below the threshold to 0, we have choosen 1 as a threshold.\n",
    "def threshold(a1):\n",
    "    for i in range(a1.shape[0]):\n",
    "        if(a1[i]<=0.01):\n",
    "            a1[i] =0\n",
    "    return a1"
   ]
  },
  {
   "cell_type": "markdown",
   "metadata": {},
   "source": [
    "## Discrepancy without the threshold for user defined implementation of Ridge"
   ]
  },
  {
   "cell_type": "code",
   "execution_count": 9,
   "metadata": {},
   "outputs": [
    {
     "name": "stdout",
     "output_type": "stream",
     "text": [
      "65\n"
     ]
    }
   ],
   "source": [
    "count1 = discrepancy(predicted_theta,true_theta)\n",
    "print count1 # indicates number of mismatched values without the thershold"
   ]
  },
  {
   "cell_type": "markdown",
   "metadata": {},
   "source": [
    "## Discrepancy with threshold for user defined implementation of Ridge"
   ]
  },
  {
   "cell_type": "code",
   "execution_count": 10,
   "metadata": {},
   "outputs": [
    {
     "name": "stdout",
     "output_type": "stream",
     "text": [
      "38\n"
     ]
    }
   ],
   "source": [
    "threshold_theta = threshold(predicted_theta)\n",
    "count2 = discrepancy(threshold_theta,true_theta)\n",
    "print count2  # indicates number of mismatched values with the threshold"
   ]
  },
  {
   "cell_type": "markdown",
   "metadata": {},
   "source": [
    "## Debugging  using the inbuilt Ridge function"
   ]
  },
  {
   "cell_type": "code",
   "execution_count": 11,
   "metadata": {},
   "outputs": [
    {
     "data": {
      "text/plain": [
       "array([  9.19418957e+00,  -9.41515277e+00,   8.79131162e+00,\n",
       "         1.00699244e+01,   1.02784643e+01,  -8.57423594e+00,\n",
       "         1.01348909e+01,  -8.77206716e+00,  -9.77229906e+00,\n",
       "         9.11664010e+00,  -3.70550429e-02,  -7.12839359e-01,\n",
       "        -8.29771232e-01,  -1.92319782e-01,  -2.49461030e-01,\n",
       "        -2.09566015e-01,  -1.39518319e-01,  -1.99264142e-01,\n",
       "        -3.60916860e-02,   9.09092277e-02,   1.22747391e-01,\n",
       "         2.03976306e-01,   1.55942149e-01,  -2.35711430e-01,\n",
       "        -8.29489277e-01,   6.05773760e-01,   1.85144681e-01,\n",
       "         1.24019575e-01,   2.75244902e-01,   6.89157084e-01,\n",
       "         5.58328696e-01,   3.74268765e-02,   7.82787180e-01,\n",
       "         7.70377985e-01,  -1.27142922e-01,  -3.28523626e-01,\n",
       "        -2.09331754e-01,  -1.05270692e-01,  -3.25855016e-01,\n",
       "        -6.36372388e-02,   6.35567987e-02,  -1.29876757e-01,\n",
       "         3.19600551e-01,   2.01747532e-01,   7.06608009e-01,\n",
       "         7.86635813e-01,  -3.15011263e-01,   8.09068814e-01,\n",
       "         7.80645126e-01,  -1.87814628e-01,   4.69158883e-02,\n",
       "        -5.61709783e-02,   3.96988351e-03,  -2.45183714e-01,\n",
       "        -9.89320849e-01,  -3.23496230e-01,  -2.39229413e-01,\n",
       "         4.16223330e-01,  -3.25959965e-01,   3.64102821e-02,\n",
       "         4.25931109e-01,   7.05388440e-01,   1.33343630e-01,\n",
       "        -6.97117408e-01,  -3.71404191e-01,  -2.03377540e-01,\n",
       "        -4.34257110e-01,   1.41473965e-01,  -1.49912440e-01,\n",
       "        -3.19451576e-01,  -9.33576662e-02,  -7.02843080e-01,\n",
       "        -7.56192396e-02,   4.62537270e-01,  -2.22290056e-01])"
      ]
     },
     "execution_count": 11,
     "metadata": {},
     "output_type": "execute_result"
    }
   ],
   "source": [
    "from sklearn import linear_model\n",
    "clf = linear_model.Ridge(alpha=0.1)\n",
    "clf.fit(xtrain,ytrain)\n",
    "clf.predict(xtest)\n",
    "clf.coef_"
   ]
  },
  {
   "cell_type": "markdown",
   "metadata": {},
   "source": [
    "## Discrepancy without the threshold for inbuilt Ridge regression"
   ]
  },
  {
   "cell_type": "code",
   "execution_count": 12,
   "metadata": {},
   "outputs": [
    {
     "name": "stdout",
     "output_type": "stream",
     "text": [
      "65\n"
     ]
    }
   ],
   "source": [
    "count3 = discrepancy(true_theta,clf.coef_)\n",
    "print count3"
   ]
  },
  {
   "cell_type": "markdown",
   "metadata": {},
   "source": [
    "## Discrepancy with threshold for inbuilt Ridge regression"
   ]
  },
  {
   "cell_type": "code",
   "execution_count": 13,
   "metadata": {},
   "outputs": [
    {
     "name": "stdout",
     "output_type": "stream",
     "text": [
      "32\n"
     ]
    }
   ],
   "source": [
    "count4 = discrepancy(threshold(clf.coef_),true_theta)\n",
    "print count4"
   ]
  },
  {
   "cell_type": "markdown",
   "metadata": {},
   "source": [
    "## Running the inbuilt Lasso function to get the corresponding theta values"
   ]
  },
  {
   "cell_type": "code",
   "execution_count": 14,
   "metadata": {},
   "outputs": [
    {
     "data": {
      "text/plain": [
       "array([  8.26254924,  -8.15024583,   8.43647684,   8.55649595,\n",
       "        10.14498126,  -8.2579131 ,   9.71550763,  -8.37300553,\n",
       "        -7.56942777,   8.95469465,   0.        ,   0.        ,\n",
       "        -0.        ,  -0.        ,  -0.        ,  -0.        ,\n",
       "         0.        ,   0.        ,  -0.        ,  -0.        ,\n",
       "        -0.        ,   0.        ,   0.        ,  -0.        ,\n",
       "        -0.        ,   0.        ,   0.        ,   0.        ,\n",
       "         0.        ,   0.        ,  -0.        ,   0.        ,\n",
       "         0.        ,   0.        ,  -0.        ,  -0.        ,\n",
       "        -0.        ,   0.        ,   0.        ,   0.        ,\n",
       "        -0.        ,  -0.        ,  -0.        ,  -0.        ,\n",
       "        -0.        ,   0.        ,   0.        ,  -0.        ,\n",
       "         0.        ,  -0.        ,   0.        ,  -0.        ,\n",
       "        -0.        ,   0.        ,  -0.        ,   0.        ,\n",
       "        -0.        ,   0.        ,  -0.        ,  -0.        ,\n",
       "         0.        ,   0.        ,   0.        ,  -0.        ,\n",
       "        -0.        ,   0.        ,  -0.        ,   0.        ,\n",
       "        -0.        ,   0.        ,   0.        ,   0.        ,\n",
       "         0.        ,  -0.        ,   0.        ])"
      ]
     },
     "execution_count": 14,
     "metadata": {},
     "output_type": "execute_result"
    }
   ],
   "source": [
    "from sklearn import linear_model\n",
    "clf = linear_model.Lasso(alpha=0.1)\n",
    "clf.fit(xtrain,ytrain)\n",
    "clf.predict(xtest)\n",
    "clf.coef_"
   ]
  },
  {
   "cell_type": "markdown",
   "metadata": {},
   "source": [
    "## Discrepancy without the threshold"
   ]
  },
  {
   "cell_type": "code",
   "execution_count": 15,
   "metadata": {},
   "outputs": [
    {
     "name": "stdout",
     "output_type": "stream",
     "text": [
      "0\n"
     ]
    }
   ],
   "source": [
    "count5 = discrepancy(clf.coef_,true_theta)\n",
    "print count5"
   ]
  },
  {
   "cell_type": "markdown",
   "metadata": {},
   "source": [
    "# Report\n",
    "\n",
    "## Self implemented Ridge regression\n",
    "\n",
    "Choosing the value of lamda through validation set indicates a good approximation of the true weights though the the discrepancy \"count1\" is high , if we threshold the value we get an extremely good approximation as can be seen from the discrepancy \"count2\" , which means we would get a good generalization of our model on future datasets.\n",
    "\n",
    "A similar trend can be seen in the built in version of Ridge regression\n",
    "\n",
    "## Built in Lasso regression\n",
    "\n",
    "Lasso regression performs extremely well without thresholding as well, as can be seen in discreapncy \"count5\".\n",
    "This means we get a good generallized approximation of the model even without thresholding the theta values.\n",
    "\n"
   ]
  },
  {
   "cell_type": "raw",
   "metadata": {},
   "source": [
    "Discrepancy     Threshold           Method\n",
    "65                  -           User defined Ridge\n",
    "38                  0.01               \"\n",
    "30                  0.1                \"\n",
    "5                    1                 \"\n",
    "\n",
    "65                  -            Inbuilt Ridge \n",
    "32                 0.01               \"\n",
    "36                 0.1                \"\n",
    "8                  1                  \"\n",
    "\n",
    "0                   -            Inbuilt Lasso    \n",
    "0                   0.01              \"\n",
    "0                   0.1               \"\n",
    "1                   1                 \""
   ]
  },
  {
   "cell_type": "markdown",
   "metadata": {},
   "source": [
    "# Conclusion\n",
    "\n",
    "It is best to choose the hyperparameter through a validation set to get a better generallization for the model."
   ]
  }
 ],
 "metadata": {
  "kernelspec": {
   "display_name": "Python 2",
   "language": "python",
   "name": "python2"
  },
  "language_info": {
   "codemirror_mode": {
    "name": "ipython",
    "version": 2
   },
   "file_extension": ".py",
   "mimetype": "text/x-python",
   "name": "python",
   "nbconvert_exporter": "python",
   "pygments_lexer": "ipython2",
   "version": "2.7.12"
  }
 },
 "nbformat": 4,
 "nbformat_minor": 2
}
